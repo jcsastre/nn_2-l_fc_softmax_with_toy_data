{
 "cells": [
  {
   "cell_type": "code",
   "execution_count": 2,
   "metadata": {
    "collapsed": true
   },
   "outputs": [],
   "source": [
    "import numpy as np\n",
    "import random\n",
    "import tensorflow as tf\n",
    "import numpy as np\n",
    "import matplotlib.pyplot as plt"
   ]
  },
  {
   "cell_type": "code",
   "execution_count": 3,
   "metadata": {
    "collapsed": true
   },
   "outputs": [],
   "source": [
    "def create_feature_sets_and_labels(test_size = 0.3):\n",
    "\n",
    "    # known patterns (5 features) output of [1] of positions [0,4]==1\n",
    "    features = []\n",
    "    features.append([[0, 0, 0, 0, 0], [0,1]])\n",
    "    features.append([[0, 0, 0, 0, 1], [0,1]])\n",
    "    features.append([[0, 0, 0, 1, 1], [0,1]])\n",
    "    features.append([[0, 0, 1, 1, 1], [0,1]])\n",
    "    features.append([[0, 1, 1, 1, 1], [0,1]])\n",
    "    features.append([[1, 1, 1, 1, 0], [0,1]])\n",
    "    features.append([[1, 1, 1, 0, 0], [0,1]])\n",
    "    features.append([[1, 1, 0, 0, 0], [0,1]])\n",
    "    features.append([[1, 0, 0, 0, 0], [0,1]])\n",
    "    features.append([[1, 0, 0, 1, 0], [0,1]])\n",
    "    features.append([[1, 0, 1, 1, 0], [0,1]])\n",
    "    features.append([[1, 1, 0, 1, 0], [0,1]])\n",
    "    features.append([[0, 1, 0, 1, 1], [0,1]])\n",
    "    features.append([[0, 0, 1, 0, 1], [0,1]])\n",
    "    features.append([[1, 0, 1, 1, 1], [1,0]])\n",
    "    features.append([[1, 1, 0, 1, 1], [1,0]])\n",
    "    features.append([[1, 0, 1, 0, 1], [1,0]])\n",
    "    features.append([[1, 0, 0, 0, 1], [1,0]])\n",
    "    features.append([[1, 1, 0, 0, 1], [1,0]])\n",
    "    features.append([[1, 1, 1, 0, 1], [1,0]])\n",
    "    features.append([[1, 1, 1, 1, 1], [1,0]])\n",
    "    features.append([[1, 0, 0, 1, 1], [1,0]])\n",
    "\n",
    "    # shuffle out features and turn into np.array\n",
    "    random.shuffle(features)\n",
    "    features = np.array(features)\n",
    "\n",
    "    # split a portion of the features into tests\n",
    "    testing_size = int(test_size*len(features))\n",
    "\n",
    "    # create train and test lists\n",
    "    train_x = list(features[:,0][:-testing_size])\n",
    "    train_y = list(features[:,1][:-testing_size])\n",
    "    test_x = list(features[:,0][-testing_size:])\n",
    "    test_y = list(features[:,1][-testing_size:])\n",
    "\n",
    "    return train_x, train_y, test_x, test_y"
   ]
  },
  {
   "cell_type": "code",
   "execution_count": 4,
   "metadata": {
    "collapsed": true
   },
   "outputs": [],
   "source": [
    "train_x, train_y, test_x, test_y = create_feature_sets_and_labels()"
   ]
  },
  {
   "cell_type": "code",
   "execution_count": 6,
   "metadata": {
    "collapsed": true
   },
   "outputs": [],
   "source": [
    "# hidden layers and their nodes\n",
    "n_nodes_hl1 = 20\n",
    "n_nodes_hl2 = 20\n",
    "\n",
    "# classes in our output\n",
    "n_classes = 2\n",
    "\n",
    "# iterations and batch-size to build out model\n",
    "hm_epochs = 1000\n",
    "batch_size = 4\n",
    "    \n",
    "x = tf.placeholder('float')\n",
    "y = tf.placeholder('float')\n",
    "\n",
    "# random weights and bias for our layers\n",
    "hidden_1_layer = {'f_fum':n_nodes_hl1,\n",
    "                  'weight':tf.Variable(tf.random_normal([len(train_x[0]), n_nodes_hl1])),\n",
    "                  'bias':tf.Variable(tf.random_normal([n_nodes_hl1]))}\n",
    "\n",
    "hidden_2_layer = {'f_fum':n_nodes_hl2,\n",
    "                  'weight':tf.Variable(tf.random_normal([n_nodes_hl1, n_nodes_hl2])),\n",
    "                  'bias':tf.Variable(tf.random_normal([n_nodes_hl2]))}\n",
    "\n",
    "output_layer = {'f_fum':None,\n",
    "                'weight':tf.Variable(tf.random_normal([n_nodes_hl2, n_classes])),\n",
    "                'bias':tf.Variable(tf.random_normal([n_classes])),}"
   ]
  },
  {
   "cell_type": "code",
   "execution_count": 5,
   "metadata": {
    "collapsed": true
   },
   "outputs": [],
   "source": [
    "# our predictive model's definition\n",
    "def neural_network_model(data):\n",
    "\n",
    "    # hidden layer 1: (data * W) + b\n",
    "    l1 = tf.add(tf.matmul(data,hidden_1_layer['weight']), hidden_1_layer['bias'])\n",
    "    l1 = tf.sigmoid(l1)\n",
    "\n",
    "    # hidden layer 2: (hidden_layer_1 * W) + b\n",
    "    l2 = tf.add(tf.matmul(l1,hidden_2_layer['weight']), hidden_2_layer['bias'])\n",
    "    l2 = tf.sigmoid(l2)\n",
    "\n",
    "    # output: (hidden_layer_2 * W) + b\n",
    "    output = tf.matmul(l2,output_layer['weight']) + output_layer['bias']\n",
    "    \n",
    "    return output"
   ]
  },
  {
   "cell_type": "code",
   "execution_count": 7,
   "metadata": {
    "collapsed": true
   },
   "outputs": [],
   "source": [
    "# training our model\n",
    "def train_neural_network(x):\n",
    "    \n",
    "    # use the model definition\n",
    "    prediction = neural_network_model(x)\n",
    "\n",
    "    # formula for cost (error)\n",
    "    cost = tf.reduce_mean( tf.nn.softmax_cross_entropy_with_logits(logits=prediction, labels=y) )\n",
    "\n",
    "    # optimize for cost using GradientDescent\n",
    "    optimizer = tf.train.GradientDescentOptimizer(1).minimize(cost)\n",
    "\n",
    "    # Tensorflow session\n",
    "    with tf.Session() as sess:\n",
    "        \n",
    "        summary_writer = tf.summary.FileWriter('log_ANN_graph', sess.graph)\n",
    "        \n",
    "        # initialize our variables\n",
    "        sess.run(tf.global_variables_initializer())\n",
    "\n",
    "        # loop through specified number of iterations\n",
    "        for epoch in range(hm_epochs):\n",
    "            epoch_loss = 0\n",
    "            i=0\n",
    "            # handle batch sized chunks of training data\n",
    "            while i < len(train_x):\n",
    "                start = i\n",
    "                end = i+batch_size\n",
    "                batch_x = np.array(train_x[start:end])\n",
    "                batch_y = np.array(train_y[start:end])\n",
    "\n",
    "                _, c = sess.run([optimizer, cost], feed_dict={x: batch_x, y: batch_y})\n",
    "                epoch_loss += c\n",
    "                i+=batch_size\n",
    "                last_cost = c\n",
    "\n",
    "            # print cost updates along the way\n",
    "            if (epoch% (hm_epochs/5)) == 0:\n",
    "                print('Epoch', epoch, 'completed out of',hm_epochs,'cost:', last_cost)\n",
    "        \n",
    "        # print accuracy of our model\n",
    "        correct = tf.equal(tf.argmax(prediction, 1), tf.argmax(y, 1))\n",
    "        accuracy = tf.reduce_mean(tf.cast(correct, 'float'))\n",
    "        print('Accuracy:',accuracy.eval({x:test_x, y:test_y}))\n",
    "\n",
    "        output_weight = sess.run(output_layer['weight'])\n",
    "        output_bias = sess.run(output_layer['bias'])\n",
    "        \n",
    "        # print predictions using our model\n",
    "        for i,t in enumerate(test_x):\n",
    "            print ('prediction for:', test_x[i])\n",
    "            output = prediction.eval(feed_dict = {x: [test_x[i]]})\n",
    "            # normalize the prediction values\n",
    "            print(tf.sigmoid(output[0][0]).eval(), tf.sigmoid(output[0][1]).eval())\n",
    "        \n",
    "        return output_weight, output_bias"
   ]
  },
  {
   "cell_type": "code",
   "execution_count": 9,
   "metadata": {
    "collapsed": false
   },
   "outputs": [
    {
     "name": "stdout",
     "output_type": "stream",
     "text": [
      "('Epoch', 0, 'completed out of', 1000, 'cost:', 3.8942468)\n",
      "('Epoch', 200, 'completed out of', 1000, 'cost:', 0.0004757664)\n",
      "('Epoch', 400, 'completed out of', 1000, 'cost:', 0.00022203146)\n",
      "('Epoch', 600, 'completed out of', 1000, 'cost:', 0.0001427723)\n",
      "('Epoch', 800, 'completed out of', 1000, 'cost:', 0.00010454083)\n",
      "('Accuracy:', 1.0)\n",
      "('prediction for:', [1, 1, 1, 1, 0])\n",
      "(0.010149556, 0.99594867)\n",
      "('prediction for:', [1, 1, 1, 0, 0])\n",
      "(0.0428138, 0.99566925)\n",
      "('prediction for:', [1, 0, 1, 1, 1])\n",
      "(0.9919526, 0.029410858)\n",
      "('prediction for:', [1, 0, 0, 1, 0])\n",
      "(0.042439401, 0.99120116)\n",
      "('prediction for:', [0, 1, 0, 1, 1])\n",
      "(0.043847825, 0.95297766)\n",
      "('prediction for:', [0, 0, 0, 1, 1])\n",
      "(0.014633508, 0.97880495)\n"
     ]
    }
   ],
   "source": [
    "output_weight, output_bias = train_neural_network(x)"
   ]
  },
  {
   "cell_type": "code",
   "execution_count": 10,
   "metadata": {
    "collapsed": false
   },
   "outputs": [
    {
     "data": {
      "image/png": "[encoded data removed]",
      "text/plain": [
       "<matplotlib.figure.Figure at 0x7f0c7c672110>"
      ]
     },
     "metadata": {},
     "output_type": "display_data"
    }
   ],
   "source": [
    "plt.title('output layer weights')\n",
    "plt.imshow(output_weight.reshape([2, 20]), cmap=plt.get_cmap('seismic'))\n",
    "frame1 = plt.gca()\n",
    "frame1.axes.get_xaxis().set_visible(False)\n",
    "frame1.axes.get_yaxis().set_visible(False) \n",
    "plt.show()"
   ]
  },
  {
   "cell_type": "code",
   "execution_count": null,
   "metadata": {
    "collapsed": true
   },
   "outputs": [],
   "source": []
  }
 ],
 "metadata": {
  "kernelspec": {
   "display_name": "Python 2",
   "language": "python",
   "name": "python2"
  },
  "language_info": {
   "codemirror_mode": {
    "name": "ipython",
    "version": 2
   },
   "file_extension": ".py",
   "mimetype": "text/x-python",
   "name": "python",
   "nbconvert_exporter": "python",
   "pygments_lexer": "ipython2",
   "version": "2.7.12"
  }
 },
 "nbformat": 4,
 "nbformat_minor": 2
}
